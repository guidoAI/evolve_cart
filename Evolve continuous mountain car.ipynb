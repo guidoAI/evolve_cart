{
 "cells": [
  {
   "attachments": {},
   "cell_type": "markdown",
   "metadata": {},
   "source": [
    "## Evolutionary Robotics\n",
    "\n",
    "In this notebook, we will discuss evolutionary robotics and have you implement an evolutionary algorithm to solve one of the tasks in the AI gym, namely the continuous mountain car task. As you will see, an initial implementation of an evolutionary algorithm for solving a robotics task is easily made. However, obtaining good results may - depending on the task - be hard, and understanding the solution may even be harder still.\n",
    "\n",
    "The figure below shows the typical evolutionary robotics approach. An initial population is randomly generated. Then there is an iterative process of: (1) Evaluating all individuals (genomes) in the population, resulting in a fitness value for each individual, (2) Selecting the individuals that will be allowed to procreate, i.e., form the new generation, and (3) Vary on the genomes of the selected individuals (using cross-over, mutation, etc.). The process typically terminates either after a specified number of generations, or after convergence to an optimal solution. Evaluation involves the conversion of the genome (genotype) to the phenotype (e.g., setting the weights of a neural network to the values in the genome). Then the phenotype is tested out on the task, typically in simulation but in some works also on real robots. In robotics tasks, evaluation is a stochastic process and execution of the task by the robot can take a long time. \n",
    "\n",
    "<img src=\"evolutionary_robotics_process.jpg\" width=\"50%\"></img>\n",
    "*Figure 1:* Depiction of the typical evolutionary robotics approach. Figure from: _Doncieux, S., Bredeche, N., Mouret, J. B., & Eiben, A. E. G. (2015). Evolutionary robotics: what, why, and where to. Frontiers in Robotics and AI, 2, 4._\n"
   ]
  },
  {
   "cell_type": "markdown",
   "metadata": {},
   "source": [
    "## MountainCarContinuous-v0\n",
    "\n",
    "In this notebook, you will apply an evolutionary robotics approach to the continuous mountain car task. In this task, the car needs to reach the flag on the right mountain, while observing its position and velocity, and acting by means of accelerating the car left or right. The car cannot go straight up the mountain, but has to build up momentum to succeed. The fitness function rewards reaching the flag, and punishes the use of control actions (using less energy to reach the hill top is better). Please see the general description of the task <A HREF=\"https://gym.openai.com/envs/MountainCarContinuous-v0/\" TARGET=\"_blank\">here</A> and the details of the task <A HREF=\"https://github.com/openai/gym/wiki/MountainCarContinuous-v0\" TARGET=\"_blank\">here</A>.\n",
    "\n",
    "<img src=\"continuous_mountain_car.png\" width=\"50%\"></img>\n",
    "*Figure 2:* Screenshot of the continuous mountain car task. \n"
   ]
  },
  {
   "cell_type": "markdown",
   "metadata": {},
   "source": [
    "Below you find code to evaluate an agent a single time in the mountain car environment. Please study the code, and note that the method ```act``` should be replaced in the end with a learned controller."
   ]
  },
  {
   "cell_type": "code",
   "execution_count": 1,
   "metadata": {},
   "outputs": [
    {
     "name": "stdout",
     "output_type": "stream",
     "text": [
      "Reward = -32.9296307284816\n"
     ]
    },
    {
     "name": "stderr",
     "output_type": "stream",
     "text": [
      "C:\\Users\\guido\\Anaconda3\\lib\\site-packages\\gym\\logger.py:30: UserWarning: \u001b[33mWARN: Box bound precision lowered by casting to float32\u001b[0m\n",
      "  warnings.warn(colorize('%s: %s'%('WARN', msg % args), 'yellow'))\n"
     ]
    }
   ],
   "source": [
    "import run_cart\n",
    "import gym\n",
    "import numpy as np\n",
    "\n",
    "class random_agent(object):\n",
    "    \"\"\"Random agent\"\"\"\n",
    "\n",
    "    def act(self, observation, reward, done):\n",
    "        return [2.0*np.random.rand()-1.0]\n",
    "\n",
    "agent = random_agent()\n",
    "reward = run_cart.run_cart_continuous(agent, graphics=False)\n",
    "print('Reward = ' + str(reward))"
   ]
  },
  {
   "cell_type": "markdown",
   "metadata": {},
   "source": [
    "## Using a continuous time recurrent neural network as controller\n",
    "\n",
    "Of course, random control is not going to solve the task. Below, we "
   ]
  },
  {
   "cell_type": "code",
   "execution_count": 4,
   "metadata": {},
   "outputs": [
    {
     "name": "stdout",
     "output_type": "stream",
     "text": [
      "Reward = -24.99999999999965\n"
     ]
    }
   ],
   "source": [
    "from CTRNN import CTRNN\n",
    "from scipy.sparse import csr_matrix\n",
    "\n",
    "class CTRNN_agent(object):\n",
    "    \n",
    "    \"\"\" Continuous Time Recurrent Neural Network agent. \"\"\"\n",
    "    \n",
    "    n_observations = 2;\n",
    "    n_actions = 1;\n",
    "    \n",
    "    def __init__(self, network_size, weights=[], taus = [], gains = [], biases = []):\n",
    "        self.network_size = network_size;\n",
    "        if(self.network_size < self.n_observations + self.n_actions):\n",
    "            self.network_size = self.n_observations + self.n_actions;\n",
    "        self.cns = CTRNN(self.network_size, step_size=0.1) \n",
    "        if(len(weights) > 0):\n",
    "            # weights must be a matrix size: network_size x network_size\n",
    "            self.cns.weights = csr_matrix(weights)\n",
    "        if(len(biases) > 0):\n",
    "            self.cns.biases = biases\n",
    "        if(len(taus) > 0):\n",
    "            self.cns.taus = taus\n",
    "        if(len(gains) > 0):\n",
    "            self.gains = gains\n",
    "    \n",
    "    def act(self, observation, reward, done):\n",
    "        external_inputs = np.asarray([0.0]*self.network_size)\n",
    "        external_inputs[0:self.n_observations] = observation\n",
    "        self.cns.euler_step(external_inputs)\n",
    "        return self.cns.outputs[-self.n_actions:]\n",
    "\n",
    "# run a CTRNN agent:\n",
    "n_neurons = 10;\n",
    "weights = np.zeros([n_neurons, n_neurons])\n",
    "taus = np.asarray([0.1]*n_neurons)\n",
    "gains = np.ones([n_neurons,])\n",
    "biases = np.zeros([n_neurons,])\n",
    "agent = CTRNN_agent(n_neurons, weights=weights, taus = taus, gains = gains, biases = biases)\n",
    "reward = run_cart.run_cart_continuous(agent, graphics=False)\n",
    "\n",
    "print('Reward = ' + str(reward))"
   ]
  },
  {
   "cell_type": "code",
   "execution_count": null,
   "metadata": {},
   "outputs": [],
   "source": []
  }
 ],
 "metadata": {
  "kernelspec": {
   "display_name": "Python 3",
   "language": "python",
   "name": "python3"
  },
  "language_info": {
   "codemirror_mode": {
    "name": "ipython",
    "version": 3
   },
   "file_extension": ".py",
   "mimetype": "text/x-python",
   "name": "python",
   "nbconvert_exporter": "python",
   "pygments_lexer": "ipython3",
   "version": "3.6.7"
  }
 },
 "nbformat": 4,
 "nbformat_minor": 2
}
