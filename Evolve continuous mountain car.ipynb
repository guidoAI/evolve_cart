{
 "cells": [
  {
   "attachments": {},
   "cell_type": "markdown",
   "metadata": {},
   "source": [
    "## Evolutionary Robotics\n",
    "\n",
    "In this notebook, we will discuss evolutionary robotics and have you implement an evolutionary algorithm to solve one of the tasks in the AI gym, namely the continuous mountain car task. As you will see, an initial implementation of an evolutionary algorithm for solving a robotics task is easily made. However, obtaining good results may - depending on the task - be hard, and understanding the solution may even be harder still.\n",
    "\n",
    "The figure below shows the typical evolutionary robotics approach. An initial population is randomly generated. Then there is an iterative process of: (1) Evaluating all individuals (genomes) in the population, resulting in a fitness value for each individual, (2) Selecting the individuals that will be allowed to procreate, i.e., form the new generation, and (3) Vary on the genomes of the selected individuals (using cross-over, mutation, etc.). The process typically terminates either after a specified number of generations, or after convergence to an optimal solution. Evaluation involves the conversion of the genome (genotype) to the phenotype (e.g., setting the weights of a neural network to the values in the genome). Then the phenotype is tested out on the task, typically in simulation but in some works also on real robots. In robotics tasks, evaluation is a stochastic process and execution of the task by the robot can take a long time. \n",
    "\n",
    "<img src=\"evolutionary_robotics_process.jpg\" width=\"50%\"></img>\n",
    "*Figure 1:* Depiction of the typical evolutionary robotics approach. Figure from: _Doncieux, S., Bredeche, N., Mouret, J. B., & Eiben, A. E. G. (2015). Evolutionary robotics: what, why, and where to. Frontiers in Robotics and AI, 2, 4._\n"
   ]
  },
  {
   "cell_type": "markdown",
   "metadata": {},
   "source": [
    "## MountainCarContinuous-v0\n",
    "\n",
    "In this notebook, you will apply an evolutionary robotics approach to the continuous mountain car task. In this task, the car needs to reach the flag on the right mountain, while observing its position and velocity, and acting by means of accelerating the car left or right. The car cannot go straight up the mountain, but has to build up momentum to succeed. The fitness function rewards reaching the flag, and punishes the use of control actions (using less energy to reach the hill top is better). Please see the general description of the task <A HREF=\"https://gym.openai.com/envs/MountainCarContinuous-v0/\" TARGET=\"_blank\">here</A> and the details of the task <A HREF=\"https://github.com/openai/gym/wiki/MountainCarContinuous-v0\" TARGET=\"_blank\">here</A>. Most importantly, it has two observations, i.e., the position and velocity along the trajectory, and one control input, i.e., the applied force, which has to be in the interval $[-1, 1]$.\n",
    "\n",
    "<img src=\"continuous_mountain_car.png\" width=\"50%\"></img>\n",
    "*Figure 2:* Screenshot of the continuous mountain car task. \n"
   ]
  },
  {
   "cell_type": "markdown",
   "metadata": {},
   "source": [
    "Below you find code to evaluate an agent a single time in the mountain car environment. Please study the code, and note that the method ```act``` should be replaced in the end with a learned controller."
   ]
  },
  {
   "cell_type": "code",
   "execution_count": 1,
   "metadata": {},
   "outputs": [
    {
     "name": "stdout",
     "output_type": "stream",
     "text": [
      "Reward = -32.02383613546819\n"
     ]
    },
    {
     "name": "stderr",
     "output_type": "stream",
     "text": [
      "C:\\Users\\guido\\Anaconda3\\lib\\site-packages\\gym\\logger.py:30: UserWarning: \u001b[33mWARN: Box bound precision lowered by casting to float32\u001b[0m\n",
      "  warnings.warn(colorize('%s: %s'%('WARN', msg % args), 'yellow'))\n"
     ]
    }
   ],
   "source": [
    "import run_cart\n",
    "import gym\n",
    "import numpy as np\n",
    "\n",
    "class random_agent(object):\n",
    "    \"\"\"Random agent\"\"\"\n",
    "\n",
    "    def act(self, observation, reward, done):\n",
    "        return [2.0*np.random.rand()-1.0]\n",
    "\n",
    "agent = random_agent()\n",
    "reward = run_cart.run_cart_continuous(agent, graphics=False)\n",
    "print('Reward = ' + str(reward))"
   ]
  },
  {
   "attachments": {},
   "cell_type": "markdown",
   "metadata": {},
   "source": [
    "## Using a continuous time recurrent neural network as controller\n",
    "\n",
    "Of course, random control is not going to solve the task. Below, we introduce an agent that uses a continuous time recurrent neural network for control. This network was introduced by Randall Beer and used for one of the first times in the following article: Beer, Randall D. The dynamics of active categorical perception in an evolved model agent. Adaptive Behavior 11.4 (2003): 209-243.\n",
    "\n",
    "CTRNNs are different from typical artificial neural networks (ANNs) in that they have an activation state $s$ which leads to a 'neural inertia'. Specifically, the activation formula, expressed as a differential equation, is:\n",
    "\n",
    "\\begin{equation}\n",
    "\\tau_i \\dot{s_i} = -s_i + I_i + \\sum_{j=1}^{N}{w_{j,i} \\sigma (g_j(s_j + \\theta_j))},\n",
    "\\end{equation}\n",
    "\n",
    "where $\\tau_i$ is the time constant of neuron $i$, $s_i$ its activation state, and $I_i$ its external inputs. $\\sigma$ is the activation function, $g_j$ the gain of neuron $j$, and $\\theta_j$ its bias. \n",
    "\n",
    "Below, we use <A HREF=\"https://github.com/madvn/CTRNN\" TARGET=\"_blank\">this CTRNN package</A>. It makes no explicit difference between types of neurons. So a network of size 10 means essentially a fully connected network of 10 neurons, where each neuron has connections to all other neurons and itself. In the code below, we give external inputs to the first two neurons, setting these inputs to the observations in the continuous mountain car task. We read out the last neuron as the output to be used for the car control. The activation function is $\\sigma(s) = \\frac{1}{1+e^{-s}}$.\n",
    "\n",
    "<FONT COLOR=\"red\">Exercise 1.</FONT>\n",
    "1. Run the network multiple times. What values does it output over the different runs? Why?\n",
    "2. Suppose that we want to start optimizing the weights and other parameters to have the car achieve the task. The ```act``` function below then has a fundamental problem. Can you spot what the problem is?\n"
   ]
  },
  {
   "cell_type": "code",
   "execution_count": 2,
   "metadata": {},
   "outputs": [
    {
     "name": "stdout",
     "output_type": "stream",
     "text": [
      "Reward = -24.99999999999965\n"
     ]
    }
   ],
   "source": [
    "from CTRNN import CTRNN\n",
    "from scipy.sparse import csr_matrix\n",
    "\n",
    "class CTRNN_agent(object):\n",
    "    \n",
    "    \"\"\" Continuous Time Recurrent Neural Network agent. \"\"\"\n",
    "    \n",
    "    n_observations = 2;\n",
    "    n_actions = 1;\n",
    "    \n",
    "    def __init__(self, network_size, weights=[], taus = [], gains = [], biases = []):\n",
    "        self.network_size = network_size;\n",
    "        if(self.network_size < self.n_observations + self.n_actions):\n",
    "            self.network_size = self.n_observations + self.n_actions;\n",
    "        self.cns = CTRNN(self.network_size, step_size=0.1) \n",
    "        if(len(weights) > 0):\n",
    "            # weights must be a matrix size: network_size x network_size\n",
    "            self.cns.weights = csr_matrix(weights)\n",
    "        if(len(biases) > 0):\n",
    "            self.cns.biases = biases\n",
    "        if(len(taus) > 0):\n",
    "            self.cns.taus = taus\n",
    "        if(len(gains) > 0):\n",
    "            self.gains = gains\n",
    "    \n",
    "    def act(self, observation, reward, done):\n",
    "        external_inputs = np.asarray([0.0]*self.network_size)\n",
    "        external_inputs[0:self.n_observations] = observation\n",
    "        self.cns.euler_step(external_inputs)\n",
    "        return self.cns.outputs[-self.n_actions:]\n",
    "\n",
    "# set up a CTRNN agent:\n",
    "n_neurons = 10;\n",
    "weights = np.zeros([n_neurons, n_neurons])\n",
    "taus = np.asarray([0.1]*n_neurons)\n",
    "gains = np.ones([n_neurons,])\n",
    "biases = np.zeros([n_neurons,])\n",
    "agent = CTRNN_agent(n_neurons, weights=weights, taus = taus, gains = gains, biases = biases)\n",
    "\n",
    "# run the agent:\n",
    "reward = run_cart.run_cart_continuous(agent, simulation_seed=0, graphics=False)\n",
    "\n",
    "# print the reward:\n",
    "print('Reward = ' + str(reward))"
   ]
  },
  {
   "cell_type": "markdown",
   "metadata": {},
   "source": [
    "## The simplest Evolutionary Algorithm for evolving a CTRNN\n",
    "\n",
    "The code below shows a very simple evolutionary algorithm that optimizes all CTRNN parameters for the mountain car task."
   ]
  },
  {
   "cell_type": "code",
   "execution_count": 5,
   "metadata": {},
   "outputs": [
    {
     "name": "stdout",
     "output_type": "stream",
     "text": [
      "Generation 0, mean = -65.30748223774762 max = -1.1386356728233553\n",
      "Generation 1, mean = -18.397009789410603 max = -0.1532727876489131\n",
      "Generation 2, mean = -13.700715645934347 max = -0.06764022239909863\n",
      "Generation 3, mean = -23.573119859909802 max = -0.009478052069900685\n",
      "Generation 4, mean = -17.433582915755643 max = -0.02724354506532329\n",
      "Generation 5, mean = -18.342007633151592 max = -0.013181519214345497\n",
      "Generation 6, mean = -14.261771659481319 max = -0.0516656131544857\n",
      "Generation 7, mean = -16.32199260270497 max = -0.011174254409646967\n",
      "Generation 8, mean = -14.612530657080123 max = -0.15678115801481984\n",
      "Generation 9, mean = -15.034341993961778 max = -0.04457890890893817\n",
      "Generation 10, mean = -13.220795728505717 max = -0.036022218705320935\n",
      "Generation 11, mean = -10.41404798977888 max = -0.007484276495980204\n",
      "Generation 12, mean = -8.864729101283306 max = -0.009629370301090227\n",
      "Generation 13, mean = -13.94307679198642 max = -0.005094784367752372\n",
      "Generation 14, mean = -9.492020262234885 max = -0.004698650950712047\n",
      "Generation 15, mean = -9.365975999138165 max = -0.030107489657993022\n",
      "Generation 16, mean = -8.61974147418738 max = -0.00419170957738532\n",
      "Generation 17, mean = -6.972828903438566 max = -0.01291718051765527\n",
      "Generation 18, mean = -13.908748109769629 max = -0.012132668031129999\n",
      "Generation 19, mean = -14.712049558582605 max = -0.007733625337790006\n",
      "Generation 20, mean = -8.608879252770608 max = -0.0021016695204459698\n",
      "Generation 21, mean = -12.08783779855377 max = -0.0056040080624453386\n",
      "Generation 22, mean = -14.31630564732588 max = -0.015548310943245774\n",
      "Generation 23, mean = -9.317989346248337 max = -0.01246818093896363\n",
      "Generation 24, mean = -8.967396109677576 max = -0.014422339041834029\n",
      "Generation 25, mean = -8.749819743116623 max = -0.015075241357645706\n",
      "Generation 26, mean = -22.406806780359055 max = -0.003590787943264009\n",
      "Generation 27, mean = -9.831342121249095 max = -0.007979498869961963\n",
      "Generation 28, mean = -14.907826721014949 max = -0.009135131866269757\n",
      "Generation 29, mean = -14.84630599846581 max = -0.012307007336661846\n",
      "Best fitness -0.009629370301090227\n",
      "Genome = [0.62261424 0.40244377 0.72927649 0.39221626 0.36427712 0.22426322\n",
      " 0.34592289 0.63850555 0.54617226 0.11559542 0.38350554 0.70106731\n",
      " 0.46876734 0.48900309 0.23088944 0.67359725 0.00686654 0.41141354\n",
      " 0.03875541 0.03170691 0.38386094 0.44843434 0.07396754 0.38922092\n",
      " 0.18349618 0.33724453 0.62972683 0.60510167 0.85404821 0.78216945\n",
      " 0.24759373 0.27168364 0.54961    0.72678173 0.66062157 0.16051768\n",
      " 0.81165522 0.35486394 0.42295797 0.37539535 0.87658434 0.95720947\n",
      " 0.73067136 0.20051829 0.5659163  0.40327229 0.97946284 0.08373101\n",
      " 0.62438805 0.71320886 0.55639536 0.46034002 0.35433062 0.51197462\n",
      " 0.69576145 0.16761618 0.58650168 0.02207377 0.24346976 0.10335369\n",
      " 0.90621015 0.05994382 0.33506941 0.12763284 0.60032931 0.61234597\n",
      " 0.36674452 0.27012029 0.66267224 0.37607871 0.41230246 0.77876242\n",
      " 0.57105461 0.03208617 0.49731288 0.0197078  0.38736858 0.45552736\n",
      " 0.64155707 0.86638203 0.42891113 0.54235213 0.90542858 0.33868603\n",
      " 0.6557178  0.971351   0.67902049 0.1270515  0.2199074  0.18718425\n",
      " 0.37946567 0.15582402 0.99091944 0.22947846 0.63030834 0.93803572\n",
      " 0.55086792 0.54632002 0.82530879 0.30575976 0.62471775 0.11156597\n",
      " 0.05461234 0.60911178 0.87391908 0.69290402 0.89447233 0.86213484\n",
      " 0.11629999 0.47383529 0.68183666 0.88404955 0.87687245 0.34069956\n",
      " 0.9957832  0.26733318 0.32578774 0.49895512 0.71279169 0.85331929\n",
      " 0.6423639  0.25372144 0.27453232 0.40707336 0.70449579 0.37069108\n",
      " 0.7101743  0.62905568 0.55592358 0.13412853]\n"
     ]
    },
    {
     "data": {
      "text/plain": [
       "-0.014504777826879842"
      ]
     },
     "execution_count": 5,
     "metadata": {},
     "output_type": "execute_result"
    },
    {
     "data": {
      "image/png": "[encoded data removed]",
      "text/plain": [
       "<Figure size 432x288 with 1 Axes>"
      ]
     },
     "metadata": {
      "needs_background": "light"
     },
     "output_type": "display_data"
    }
   ],
   "source": [
    "%matplotlib inline\n",
    "from matplotlib import pyplot as plt\n",
    "from CTRNN import CTRNN\n",
    "from scipy.sparse import csr_matrix\n",
    "import run_cart\n",
    "import gym\n",
    "import numpy as np\n",
    "\n",
    "\n",
    "# added unpacking of genome:\n",
    "class CTRNN_agent(object):\n",
    "    \n",
    "    \"\"\" Continuous Time Recurrent Neural Network agent. \"\"\"\n",
    "    \n",
    "    n_observations = 2;\n",
    "    n_actions = 1;\n",
    "    \n",
    "    def __init__(self, network_size, genome = [], weights=[], taus = [], gains = [], biases = []):\n",
    "        \n",
    "        self.network_size = network_size;\n",
    "        if(self.network_size < self.n_observations + self.n_actions):\n",
    "            self.network_size = self.n_observations + self.n_actions;\n",
    "        self.cns = CTRNN(self.network_size, step_size=0.1) \n",
    "        \n",
    "        if(len(genome) == self.network_size*self.network_size+3*self.network_size):\n",
    "            # Get the network parameters from the genome:\n",
    "            weight_range = 3\n",
    "            ind = self.network_size*self.network_size\n",
    "            w = weight_range * (2.0 * (genome[:ind] - 0.5))\n",
    "            weights = np.reshape(w, [self.network_size, self.network_size])\n",
    "            biases = weight_range * (2.0 * (genome[ind:ind+self.network_size] - 0.5))\n",
    "            ind += self.network_size\n",
    "            taus = 0.9 * genome[ind:ind+self.network_size] + 0.05\n",
    "            ind += self.network_size\n",
    "            gains = 2.0 * (genome[ind:ind+self.network_size]-0.5)\n",
    "        \n",
    "        if(len(weights) > 0):\n",
    "            # weights must be a matrix size: network_size x network_size\n",
    "            self.cns.weights = csr_matrix(weights)\n",
    "        if(len(biases) > 0):\n",
    "            self.cns.biases = biases\n",
    "        if(len(taus) > 0):\n",
    "            self.cns.taus = taus\n",
    "        if(len(gains) > 0):\n",
    "            self.gains = gains\n",
    "    \n",
    "    def act(self, observation, reward, done):\n",
    "        external_inputs = np.asarray([0.0]*self.network_size)\n",
    "        external_inputs[0:self.n_observations] = observation\n",
    "        self.cns.euler_step(external_inputs)\n",
    "        output = 2.0 * (self.cns.outputs[-self.n_actions:] - 0.5)\n",
    "        return output\n",
    "\n",
    "def evaluate(genome, seed = 0, graphics = False):\n",
    "    # create the phenotype from the genotype:\n",
    "    agent = CTRNN_agent(n_neurons, genome=genome)\n",
    "    # run the agent:\n",
    "    reward = run_cart.run_cart_continuous(agent, simulation_seed=seed, graphics=graphics)\n",
    "    #print('Reward = ' + str(reward))\n",
    "    return reward\n",
    "    \n",
    "    \n",
    "# Parameters CTRNN:\n",
    "network_size = 10\n",
    "genome_size = (network_size+3)*network_size\n",
    "\n",
    "# Evolutionary algorithm:\n",
    "n_individuals = 30\n",
    "n_generations = 30\n",
    "p_mut = 0.05\n",
    "n_best = 3\n",
    "\n",
    "np.random.seed(0)\n",
    "Population = np.random.rand(n_individuals, genome_size)\n",
    "Reward = np.zeros([n_individuals,])\n",
    "max_fitness = np.zeros([n_generations,])\n",
    "mean_fitness = np.zeros([n_generations,])\n",
    "Best = []\n",
    "fitness_best = []\n",
    "for g in range(n_generations):\n",
    "    \n",
    "    # evaluate:\n",
    "    for i in range(n_individuals):\n",
    "        Reward[i] = evaluate(Population[i, :])\n",
    "    mean_fitness[g] = np.mean(Reward)\n",
    "    max_fitness[g] = np.max(Reward)\n",
    "    print('Generation {}, mean = {} max = {}'.format(g, mean_fitness[g], max_fitness[g]))\n",
    "    # select:\n",
    "    inds = np.argsort(Reward)\n",
    "    inds = inds[-n_best:]\n",
    "    if(len(Best) == 0 or Reward[-1] > fitness_best):\n",
    "        Best = Population[inds[-1], :]\n",
    "        fitness_best = Reward[-1]\n",
    "    # vary:\n",
    "    NewPopulation = np.zeros([n_individuals, genome_size])\n",
    "    for i in range(n_individuals):\n",
    "        ind = inds[i % n_best]\n",
    "        NewPopulation[i,:] = Population[ind, :]\n",
    "        for gene in range(genome_size):\n",
    "            if(np.random.rand() <= p_mut):\n",
    "                NewPopulation[i,gene] = np.random.rand()\n",
    "    Population = NewPopulation\n",
    "\n",
    "print('Best fitness ' + str(fitness_best))\n",
    "print('Genome = ' + str(Best))\n",
    "\n",
    "plt.figure();\n",
    "plt.plot(range(n_generations), mean_fitness)\n",
    "plt.plot(range(n_generations), max_fitness)\n",
    "plt.xlabel('Generations')\n",
    "plt.ylabel('Fitness')\n",
    "plt.legend(['Mean fitness', 'Max fitness'])\n",
    "\n",
    "evaluate(Best, graphics=True)"
   ]
  },
  {
   "cell_type": "code",
   "execution_count": null,
   "metadata": {},
   "outputs": [],
   "source": []
  }
 ],
 "metadata": {
  "kernelspec": {
   "display_name": "Python 3",
   "language": "python",
   "name": "python3"
  },
  "language_info": {
   "codemirror_mode": {
    "name": "ipython",
    "version": 3
   },
   "file_extension": ".py",
   "mimetype": "text/x-python",
   "name": "python",
   "nbconvert_exporter": "python",
   "pygments_lexer": "ipython3",
   "version": "3.6.7"
  }
 },
 "nbformat": 4,
 "nbformat_minor": 2
}
